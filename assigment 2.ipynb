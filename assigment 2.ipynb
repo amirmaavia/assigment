{
 "cells": [
  {
   "cell_type": "code",
   "execution_count": 2,
   "metadata": {},
   "outputs": [
    {
     "name": "stdout",
     "output_type": "stream",
     "text": [
      "enter your lucky number num : 4\n",
      "educated \n"
     ]
    }
   ],
   "source": []
  },
  {
   "cell_type": "code",
   "execution_count": null,
   "metadata": {},
   "outputs": [],
   "source": [
    "per = int(input(\"enter your lucky number  1 t0 10: \")) \n",
    "if per >= 1: \n",
    "    print(\"educated \") \n",
    "elif per >= 2: \n",
    "    print(\"angry \") \n",
    "elif per >= 3: \n",
    "    print(\" cute \") \n",
    "elif per >=4: \n",
    "    print(\"Happy \") \n",
    "elif per >=5: \n",
    "    print(\"sad \") \n",
    "elif per >=6: \n",
    "    print(\"nice \") \n",
    "elif per >=7: \n",
    "     print(\" boring \") \n",
    "elif per >=8:\n",
    "     print(\"loving\") \n",
    "elif per >=9: \n",
    "     print(\"clever\") \n",
    "elif per >= 10: \n",
    "     print(\"freindly\")"
   ]
  },
  {
   "cell_type": "code",
   "execution_count": null,
   "metadata": {},
   "outputs": [],
   "source": []
  }
 ],
 "metadata": {
  "kernelspec": {
   "display_name": "Python 3",
   "language": "python",
   "name": "python3"
  },
  "language_info": {
   "codemirror_mode": {
    "name": "ipython",
    "version": 3
   },
   "file_extension": ".py",
   "mimetype": "text/x-python",
   "name": "python",
   "nbconvert_exporter": "python",
   "pygments_lexer": "ipython3",
   "version": "3.7.3"
  }
 },
 "nbformat": 4,
 "nbformat_minor": 2
}
